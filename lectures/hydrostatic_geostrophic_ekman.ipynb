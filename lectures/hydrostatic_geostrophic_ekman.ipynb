{
 "cells": [
  {
   "cell_type": "markdown",
   "metadata": {},
   "source": [
    "$$ \\newcommand{\\pd}[2]{ \\frac{\\partial #1}{\\partial #2} }\n",
    "\\newcommand{\\od}[2]{\\frac{d #1}{d #2}}\n",
    "\\newcommand{\\td}[2]{\\frac{D #1}{D #2}}\n",
    "\\newcommand{\\ab}[1]{\\langle #1 \\rangle}\n",
    "\\newcommand{\\bss}[1]{\\textsf{\\textbf{#1}}}\n",
    "\\newcommand{\\ol}{\\overline}\n",
    "\\newcommand{\\olx}[1]{\\overline{#1}^x}\n",
    "$$\n",
    "\n",
    "# Hydrostatic, Geostrophic, and Ekman Balances"
   ]
  },
  {
   "cell_type": "markdown",
   "metadata": {},
   "source": [
    "In the previous lecture, we obtained the local-tangent-plane form of the Boussinesq equations of motion. We repeat the final equations, in component form, below:\n",
    "\n",
    "$$ \\begin{align}\n",
    "\\td{u}{t} - f v &= -\\pd{\\phi}{x} + \\nu \\nabla^2 u \\\\\n",
    "\\td{v}{t} + f u &= -\\pd{\\phi}{y} + \\nu \\nabla^2 v \\\\\n",
    "\\td{w}{t}       &= -\\pd{\\phi}{z} + b + \\nu \\nabla^2 w  \\ .\n",
    "\\end{align} $$\n",
    "\n",
    "In this lecture, we ask _what are the dominant balances in these equations under common oceanographic conditions_."
   ]
  },
  {
   "cell_type": "markdown",
   "metadata": {},
   "source": [
    "## Hydrostatic Balance\n",
    "\n",
    "We already saw hydrostatic balance for the _background pressure and density field_. For the large-scale flow, the dynamic pressure is also in hydrostatic balance:\n",
    "\n",
    "$$ \\pd{\\phi}{z} = b \\ . $$\n",
    "\n",
    "To remind ourselves of the underlying physics, we can write out $\\phi$ and $b$ explicitly and drop the common factor of $1/\\rho_0$:\n",
    "\n",
    "$$ \\pd{}{z} \\delta p = - g \\delta \\rho \\ . $$\n",
    "\n",
    "Hydrostatic balance can be used to define $\\phi$ at any point. In order to do so, however, we must think a bit more about sea-surface height and its relation to pressure."
   ]
  },
  {
   "cell_type": "markdown",
   "metadata": {},
   "source": [
    "## Sea Surface Height, Dynamic Height, and Pressure"
   ]
  },
  {
   "cell_type": "markdown",
   "metadata": {},
   "source": [
    "What is the dynamic pressure $\\phi$ at an arbitrary depth $z$ for a flow in hydrostatic balance? The dynamc sea-surface $\\eta$ is defined relative to the mean geoid (i.e. a surface of constant geopotential) at $z=0$.\n",
    "\n",
    "![pressure](https://vectr.com/rabernat/cXT6pS0GS.svg?width=400&height=200&select=cXT6pS0GSpage0)\n",
    "\n",
    "We go back to the full hydrostatic balance with both backround and dynamic pressure:\n",
    "\n",
    "$$ \\pd{}{z} (p) = - g \\rho \\ . $$\n",
    "\n",
    "We now integrate this equation in the vertical from an arbitrary $z$ up to the sea surface $\\eta$:\n",
    "\n",
    "$$ \\int_z^\\eta \\pd{}{z'} p dz'\n",
    "= p(\\eta) - p(z)\n",
    "= - g \\int_z^\\eta  \\rho dz' \\ . $$\n",
    "\n",
    "$p(\\eta)$ is the pressure right at the sea surface, which is given by the atmospheric pressure. Although atmospheric pressure loading can have a small effect on ocean circulation, it is generally negligible compared to the huge pressures generated internally by the ocean. We will now take $p(\\eta)=0$ to simplify the bookkeeping, this gives.\n",
    "\n",
    "$$ p(z) = g \\int_z^\\eta  \\rho dz' \\ . $$\n",
    "\n",
    "Now let's subtract the reference pressure. It given integrating the hydrostatic balance for the background density up to $z=0$. This upper limit is important: the reference pressure is defined for a flat sea surface.\n",
    "\n",
    "$$ p_{ref}(z) = g \\int_z^0  \\rho_0 dz' \\ . $$\n",
    "\n",
    "Subtracting the two equations, we obtain\n",
    "\n",
    "$$ \\begin{align}\n",
    "\\delta p(z) = p(z) - p_{ref}(z) &= g \\int_z^\\eta  \\rho dz' \\ - g \\int_z^0  \\rho_0 dz' \\\\\n",
    "&= g \\int_0^\\eta  \\rho  dz' + g \\int_z^0 \\delta \\rho dz'\n",
    "\\end{align} $$\n",
    "\n",
    "We see there is a contribution from the density fluctuations in the interior (second term), plus the variations in the sea-surface height (first term). We can, to the usual precision of the Boussinesq approximation, neglect the density fluctuations within the depths 0 to $\\eta$. Dividing through by $\\rho_0$, we obtain\n",
    "\n",
    "$$ \\begin{align}\n",
    "\\phi(z) = g \\eta  + \\int_z^0 b dz'\n",
    "\\end{align} $$\n",
    "\n",
    "It is common in oceanography to define a quanity known as _dynamic height_, which expresses dynamic pressure variations in terms of their effective sea-surface height. In our notation, with the Boussinesq approximation, dynamic height is defined as\n",
    "\n",
    "$$ H = \\frac{\\phi}{g} \\ .$$ "
   ]
  },
  {
   "cell_type": "markdown",
   "metadata": {},
   "source": [
    "## Rossby Number\n",
    "\n",
    "Let's estimate the relative size of the acceleration to Coriolis terms on the left-hand side of the horizontal momentum equations.\n",
    "\n",
    "The ratio of these terms defines the _Rossby number_. \n",
    "\n",
    "$$ R_O =  \\frac{ \\left | \\td{u}{t} \\right | }{ | f v |} $$\n",
    "\n",
    "The magnitude of the acceleration term can be estimated as $U^2 / L$, where $U$ is a representitive velocity scale of the flow and $L$ is a representative length scale. So we can estimate the Rossby number as\n",
    "\n",
    "$$ R_O =  \\frac{U}{f L} \\ . $$\n",
    "\n",
    "What are representative values? For the large-scale ocean circulation, U = 0.01 m/s, L = 1000 km, and f = 10$^{-4}$ s$^{-1}$. This gives $R_O = 10^{-4}$. So the _acceleration terms are often totally negligible_!"
   ]
  },
  {
   "cell_type": "markdown",
   "metadata": {},
   "source": [
    "For low Rossby number conditions, we can neglect the acceleration and write the horizontal momentum equations as\n",
    "\n",
    "$$ \\begin{align} - f v &= -\\pd{\\phi}{x} + \\nu \\nabla^2 u \\\\\n",
    " f u &= -\\pd{\\phi}{y} + \\nu \\nabla^2 v \n",
    "\\end{align} $$\n",
    "\n",
    "The _geostrophic flow_ is defined as the flow determined by the balance between the Coriolis term and and the pressure gradient:\n",
    "\n",
    "$$ \\begin{align} - f v_g &= -\\pd{\\phi}{x} \\\\\n",
    "  f u_g &= -\\pd{\\phi}{y} \n",
    "\\end{align} $$\n",
    "\n",
    "while the ageostrophic flow is defined via the balance between the Coriolis term and the friction term:\n",
    "\n",
    "$$ \\begin{align} - f v_a &= \\nu \\nabla^2 u \\\\\n",
    "  f u_a &= \\nu \\nabla^2 v \n",
    "\\end{align} $$\n",
    "\n",
    "The total flow is given by the sum of the geostrophic and ageostrophic components:\n",
    "\n",
    "$$ \\mathbf{u} = \\mathbf{u}_a + \\mathbf{u}_g \\ .$$"
   ]
  },
  {
   "cell_type": "markdown",
   "metadata": {},
   "source": [
    "## Geostrophic Flow\n",
    "\n",
    "Away from the boundaries, Friction is weak, and the flow is, to a good approximation geostrophic. Geostrophic (or \"balanced\") flow is a ubiquitous feature of flows in the ocean and atmosphere. Geostrophic flow is characterized by flow along the pressure contours (i.e. _isobars_), as illustrated below.\n",
    "\n",
    "![geostrophic flow](https://vectr.com/rabernat/aaaXksIBy.svg?width=600&height=300&select=aaaXksIBypage0)\n",
    "\n",
    "Rotational flow around pressure minimum is called _cyclonic_. Cyclonc flow is counterclockwise in the northern hemisphere and (due to the change of sign of $f$) clockwise in the southern hemisphere.\n",
    "\n",
    "![AVISO mean dynamic topography](https://www.aviso.altimetry.fr/fileadmin/_processed_/d/f/csm_topdyn_traject_2012_sm_a0b83804b9.png)\n",
    "_ [AVISO mean dynamic topography](https://www.aviso.altimetry.fr/en/applications/ocean/large-scale-circulation/mean-dynamic-topography.html) _\n",
    "\n",
    "### Thermal Wind\n",
    "\n",
    "The geostrophic flow is determined by the pressure and the pressure is determined by the density (via hydrostatic balance). We can see this relationship more clearly if we take the derivative in $z$ of the geostrophic equations:\n",
    "\n",
    "$$ \\begin{align} - f \\pd{v_g}{z} &= -\\pd{}{x}\\pd{\\phi}{z} = -\\pd{b}{x}\\\\\n",
    "f \\pd{u_g}{z} &= -\\pd{}{y} \\pd{\\phi}{z} = -\\pd{b}{y} \\ .\n",
    "\\end{align} $$\n",
    "\n",
    "These equations, called _thermal wind_ relate the _vertical shear of the geostrophic flow_ to the _horizontal gradients of buoyancy_. They are very useful for interpreting hydrographic data.\n",
    "\n",
    "![A03 Section](http://whp-atlas.ucsd.edu/whp_atlas/atlantic/a03/sections/printatlas/A03_GAMMA-N.jpg)\n",
    "[WOCE Atlantic Atlas Vol. 3](http://whp-atlas.ucsd.edu/whp_atlas/atlantic/a03/sections/printatlas/printatlas.htm) "
   ]
  },
  {
   "cell_type": "code",
   "execution_count": null,
   "metadata": {
    "collapsed": true
   },
   "outputs": [],
   "source": []
  }
 ],
 "metadata": {
  "kernelspec": {
   "display_name": "Python 3",
   "language": "python",
   "name": "python3"
  },
  "language_info": {
   "codemirror_mode": {
    "name": "ipython",
    "version": 3
   },
   "file_extension": ".py",
   "mimetype": "text/x-python",
   "name": "python",
   "nbconvert_exporter": "python",
   "pygments_lexer": "ipython3",
   "version": "3.6.2"
  }
 },
 "nbformat": 4,
 "nbformat_minor": 2
}
