{
 "cells": [
  {
   "cell_type": "markdown",
   "metadata": {},
   "source": [
    "# Homework 3: Thermal Wind and Ekman Transports #\n",
    "\n",
    "In this problem set you will apply thermal wind balance and Ekman dynamics to real data.\n",
    "\n",
    "First import numpy, matplotlib, xray, and gsw."
   ]
  },
  {
   "cell_type": "code",
   "execution_count": null,
   "metadata": {
    "collapsed": true
   },
   "outputs": [],
   "source": []
  },
  {
   "cell_type": "markdown",
   "metadata": {},
   "source": [
    "## 1. Thermal Wind from Hydrographic Data (35%) ##\n",
    "\n",
    "In this problem, we explore the quantitative relation between lateral density gradients and geostrophic currents.\n",
    "\n",
    "The thermal wind equations in component form are (using the Boussinesq approximation):\n",
    "\n",
    "$$ \\frac{\\partial v_g}{\\partial z} = \\frac{1}{f} \\frac{\\partial b}{\\partial x}\n",
    "                                   = -\\frac{g}{\\rho_0 f} \\frac{\\partial \\rho}{\\partial x} \\\\\n",
    "\\frac{\\partial u_g}{\\partial z} = -\\frac{1}{f} \\frac{\\partial b}{\\partial y}\n",
    "                                = \\frac{g}{\\rho_0 f} \\frac{\\partial \\rho}{\\partial y}\n",
    "$$\n",
    "\n",
    "where \n",
    "\n",
    "$$ b = - \\frac{g({\\rho - \\rho_0})}{\\rho_0}$$\n",
    "\n",
    "### A) Conceptual question: does it matter whether we use $\\rho$ (in situ density) or $\\sigma$ (potential density) in the thermal wind equation? Why or why not?"
   ]
  },
  {
   "cell_type": "code",
   "execution_count": null,
   "metadata": {
    "collapsed": true
   },
   "outputs": [],
   "source": []
  },
  {
   "cell_type": "markdown",
   "metadata": {},
   "source": [
    "### Load World Ocean Atlas Data ###\n",
    "\n",
    "The following command will open the [2009 World Ocean Atlas](https://www.nodc.noaa.gov/OC5/WOA09/pr_woa09.html) via the web as an [xray dataset](http://xray.readthedocs.org/en/stable/data-structures.html#dataset).\n",
    "\n",
    "This is the data we will use in the thermal wind equation."
   ]
  },
  {
   "cell_type": "code",
   "execution_count": 4,
   "metadata": {
    "collapsed": false,
    "scrolled": false
   },
   "outputs": [],
   "source": [
    "woa = xray.open_dataset('http://iridl.ldeo.columbia.edu/SOURCES/.NOAA/.NODC/.WOA09/'\n",
    "                        '.Grid-1x1/.Annual/dods')"
   ]
  },
  {
   "cell_type": "markdown",
   "metadata": {},
   "source": [
    "### B) Calculate the potential density field globally using gsw\n",
    "\n",
    "First you have to convert practical salinity (``woa['salinity.s_an']``) to absolute salinity and temperature (``woa['temperature.t_an']``) to conservative temperature.\n",
    "\n",
    "(Hint: to use gsw to operate on arrays, you might first want to apply the function ``xray.broadcast_arrays``. Read its documentation.)\n",
    "\n",
    "(Another hint: to make this work with coordinate arrays (e.g. ``woa['lat']``), try multiplying them first by 1. Don't ask me why this is necessary...but it works.)"
   ]
  },
  {
   "cell_type": "code",
   "execution_count": 205,
   "metadata": {
    "collapsed": false
   },
   "outputs": [],
   "source": [
    "xray.broadcast_arrays?"
   ]
  },
  {
   "cell_type": "code",
   "execution_count": null,
   "metadata": {
    "collapsed": false
   },
   "outputs": [],
   "source": []
  },
  {
   "cell_type": "markdown",
   "metadata": {},
   "source": [
    "### C) Plot sections of surface potential density in two different regions  ##\n",
    "\n",
    "* Kuroshio Extension (logitude=170.5, latitude=30N - 50N)\n",
    "* Antartic Circumpolar Current south of New Zealand (longitude=170.5, latitude=72S - 55S)\n",
    "\n",
    "\n",
    "You may wish to turn $\\sigma_0$ back in to an [xray DataArray](http://xray.readthedocs.org/en/stable/data-structures.html#creating-a-dataarray) to facilitate easier plotting."
   ]
  },
  {
   "cell_type": "code",
   "execution_count": null,
   "metadata": {
    "collapsed": true
   },
   "outputs": [],
   "source": []
  },
  {
   "cell_type": "markdown",
   "metadata": {},
   "source": [
    "Our goal is to use thermal wind to estimate the volume transport of ocean currents from observations of $T$ and $S$ alone.\n",
    "\n",
    "### C) Math question: Integrate the thermal wind equation vertically (from depth -H to 0) and laterally (over horizontal distance L) to find an expression for the net geostrophic transport across a section.\n",
    "\n",
    "You may simplify by assuming that $f$ (Coriolis parameter) is approximately constant over the section. Your final expression should contain an unknown constant of integration. Discuss what this constant represents. What does it imply about limitations of the thermal wind equation?"
   ]
  },
  {
   "cell_type": "code",
   "execution_count": null,
   "metadata": {
    "collapsed": true
   },
   "outputs": [],
   "source": []
  },
  {
   "cell_type": "markdown",
   "metadata": {},
   "source": [
    "### D) Using your expression from above, estimate the net volume transport through the two sections.\n",
    "\n",
    "Limit your calculatation to the _upper 2000 m_ and __assume the flow below 2000 m is zero__! (This assumption should allow you to eliminate the unknown constant of integration.)\n",
    "\n",
    "If you can't figure out how to do this numerically (it's possible but requires care), then try to make some approximations that will allow you to arrive at an answer. If you explain your approximations carefully, you will still receive full credit."
   ]
  },
  {
   "cell_type": "code",
   "execution_count": null,
   "metadata": {
    "collapsed": true
   },
   "outputs": [],
   "source": []
  },
  {
   "cell_type": "markdown",
   "metadata": {},
   "source": [
    "# 2. Ekman Transport (35%)\n",
    "\n",
    "Here we will estimate Ekman transport from real observational wind data.\n",
    "\n",
    "## SCOW Wind Stress Data ##\n",
    "\n",
    "Dataset:\n",
    "http://cioss.coas.oregonstate.edu/scow/index.html\n",
    "\n",
    "This dataset is not encoded properly, so we need more special code to process it. I have done this part for you."
   ]
  },
  {
   "cell_type": "code",
   "execution_count": 109,
   "metadata": {
    "collapsed": false
   },
   "outputs": [
    {
     "name": "stdout",
     "output_type": "stream",
     "text": [
      "  % Total    % Received % Xferd  Average Speed   Time    Time     Time  Current\n",
      "                                 Dload  Upload   Total   Spent    Left  Speed\n",
      "100 36.9M  100 36.9M    0     0  3363k      0  0:00:11  0:00:11 --:--:-- 5370k\n",
      "  % Total    % Received % Xferd  Average Speed   Time    Time     Time  Current\n",
      "                                 Dload  Upload   Total   Spent    Left  Speed\n",
      "100 36.9M  100 36.9M    0     0  3418k      0  0:00:11  0:00:11 --:--:-- 3958k\n"
     ]
    }
   ],
   "source": [
    "# download SCOW data\n",
    "!curl -O http://cioss.coas.oregonstate.edu/scow/data/monthly_fields/wind_stress_zonal_monthly_maps.nc\n",
    "!curl -O http://cioss.coas.oregonstate.edu/scow/data/monthly_fields/wind_stress_meridional_monthly_maps.nc"
   ]
  },
  {
   "cell_type": "code",
   "execution_count": 133,
   "metadata": {
    "collapsed": false
   },
   "outputs": [],
   "source": [
    "# load data\n",
    "scow_zonal = xray.open_dataset('wind_stress_zonal_monthly_maps.nc')\n",
    "scow_merid = xray.open_dataset('wind_stress_meridional_monthly_maps.nc')\n",
    "# each month is encoded as a different variable, annoying!\n",
    "# have to manually average in time\n",
    "dvars = scow_zonal.data_vars.keys()\n",
    "taux = scow_zonal[dvars[0]]\n",
    "tauy = scow_merid[dvars[0]]\n",
    "for k in dvars[1:]:\n",
    "    taux += scow_zonal[k]\n",
    "    tauy = scow_merid[dvars[0]]\n",
    "missing_value = -9999\n",
    "taux = (taux / 12).where(taux>missing_value)\n",
    "tauy = (tauy / 12).where(tauy>missing_value)"
   ]
  },
  {
   "cell_type": "markdown",
   "metadata": {},
   "source": [
    "### A) Calculate and make maps of $U_{Ek}$ and $V_{Ek}$, the zonal and meridional Ekman volume transports (units m$^{2}$/s). How do the magnitudes of the two components compare?\n",
    "\n",
    "You may make the Boussinesq approximation ($\\rho \\simeq \\rho_0$).\n",
    "\n",
    "Mask your data between $\\pm$ 5$^\\circ$ latitude, where $f$ becomes very small."
   ]
  },
  {
   "cell_type": "code",
   "execution_count": null,
   "metadata": {
    "collapsed": false
   },
   "outputs": [],
   "source": []
  },
  {
   "cell_type": "markdown",
   "metadata": {},
   "source": [
    "### B) Calculate and plot the zonally integrated meridional Ekman transport as a function of latitude.\n",
    "\n",
    "Give your answer in Sv."
   ]
  },
  {
   "cell_type": "code",
   "execution_count": null,
   "metadata": {
    "collapsed": false
   },
   "outputs": [],
   "source": []
  },
  {
   "cell_type": "markdown",
   "metadata": {},
   "source": [
    "### C) Use your previous plot to estimate the net Ekman upwelling and downwelling in different latitude bands (also in Sv).\n",
    "\n",
    "Choose the bands yourself based on on the locations of the minima and maxima of the curve."
   ]
  },
  {
   "cell_type": "code",
   "execution_count": null,
   "metadata": {
    "collapsed": true
   },
   "outputs": [],
   "source": []
  },
  {
   "cell_type": "markdown",
   "metadata": {},
   "source": [
    "## 3. Sverdrup Transport (30%)\n",
    "\n",
    "In this problem we calculate the sverdrup flow in an idealized scenario.\n",
    "\n",
    "We have a basin in Cartesian coordinates $(x,y)$ of dimensions $L_x$ x $L_y$. The lower left corner of the basin is at $(x,y) = (0,0)$ and the upper right corner is at $(x,y) = (L_x,\\ L_y)$.\n",
    "\n",
    "The zonal wind stress is given by\n",
    "\n",
    "$$\n",
    "\\tau_x = -\\tau_0 \\cos\\left ( \\frac{2 \\pi y}{L_y} \\right )\n",
    "$$\n",
    "\n",
    "For simplicity, assume that $\\beta = const = 10^{-11}$ m$^{-1}$ s$^{-1}$. "
   ]
  },
  {
   "cell_type": "markdown",
   "metadata": {},
   "source": [
    "### A) Plot $\\tau_x(y)$"
   ]
  },
  {
   "cell_type": "code",
   "execution_count": null,
   "metadata": {
    "collapsed": true
   },
   "outputs": [],
   "source": []
  },
  {
   "cell_type": "markdown",
   "metadata": {},
   "source": [
    "### B) Calculate and plot the zonally integrated meridional Sverdrup transport (units Sv) across the basin due to this wind stress?  "
   ]
  },
  {
   "cell_type": "code",
   "execution_count": null,
   "metadata": {
    "collapsed": true
   },
   "outputs": [],
   "source": []
  },
  {
   "cell_type": "markdown",
   "metadata": {},
   "source": [
    "### C) Plot (contour) the barotropic transport streamfunction $\\Psi(x,y)$ associated with this wind stress, _assuming $\\Psi$ is zero on the Eastern boundary_."
   ]
  },
  {
   "cell_type": "code",
   "execution_count": null,
   "metadata": {
    "collapsed": true
   },
   "outputs": [],
   "source": []
  },
  {
   "cell_type": "markdown",
   "metadata": {},
   "source": [
    "### D) Discuss the implied western boundary currents. How does the boundary current transport depend on $\\tau_0$? $L_y$?"
   ]
  },
  {
   "cell_type": "code",
   "execution_count": null,
   "metadata": {
    "collapsed": true
   },
   "outputs": [],
   "source": []
  },
  {
   "cell_type": "markdown",
   "metadata": {},
   "source": [
    "## OPTIONAL EXTRA CREDIT (+20%) ##\n",
    "## Repeat the Sverdrup streamfunction calculation for the Pacific using the SCOW wind stress data ##\n",
    "\n",
    "Use real values of $\\beta$."
   ]
  },
  {
   "cell_type": "code",
   "execution_count": null,
   "metadata": {
    "collapsed": true
   },
   "outputs": [],
   "source": []
  }
 ],
 "metadata": {
  "kernelspec": {
   "display_name": "Python 2",
   "language": "python",
   "name": "python2"
  },
  "language_info": {
   "codemirror_mode": {
    "name": "ipython",
    "version": 2
   },
   "file_extension": ".py",
   "mimetype": "text/x-python",
   "name": "python",
   "nbconvert_exporter": "python",
   "pygments_lexer": "ipython2",
   "version": "2.7.10"
  }
 },
 "nbformat": 4,
 "nbformat_minor": 0
}
